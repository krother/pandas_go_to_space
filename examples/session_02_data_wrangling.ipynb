{
 "cells": [
  {
   "cell_type": "markdown",
   "id": "8796c573-d68c-40dd-905f-340eca9e5155",
   "metadata": {},
   "source": [
    "# Baby Names - Data Wrangling\n",
    "\n",
    "**Goal: plot a timeline of name frequencies**"
   ]
  },
  {
   "cell_type": "markdown",
   "id": "4f2c94dc-921e-4273-b033-a9249440eca9",
   "metadata": {},
   "source": [
    "Data from: www.ssa.gov/oact/babynames/limits.html"
   ]
  },
  {
   "cell_type": "code",
   "execution_count": null,
   "id": "5446f6dd-a783-4e7e-81c8-c256b676c1db",
   "metadata": {},
   "outputs": [],
   "source": [
    "import os\n",
    "\n",
    "import pandas as pd"
   ]
  },
  {
   "cell_type": "code",
   "execution_count": null,
   "id": "454ddd75-52b0-4c29-9f68-f296ad1fe303",
   "metadata": {},
   "outputs": [],
   "source": [
    "# read all Baby Name files\n",
    "data = []\n",
    "for fn in sorted(os.listdir(\"names\")):\n",
    "    if fn.startswith(\"yob\"):\n",
    "        df = pd.read_csv(f\"names/{fn}\", names=[\"name\", \"sex\", \"count\"])\n",
    "        df[\"year\"] = fn[3:7]  # could use int(fn[3:7])\n",
    "        data.append(df)"
   ]
  },
  {
   "cell_type": "code",
   "execution_count": null,
   "id": "4678521a-1186-4813-9d1d-65e5d0f951ec",
   "metadata": {},
   "outputs": [],
   "source": [
    "len(data)  # number of files"
   ]
  },
  {
   "cell_type": "code",
   "execution_count": null,
   "id": "5ad78a0d-e835-4ccd-bfbf-4fa2eb42db07",
   "metadata": {},
   "outputs": [],
   "source": [
    "df = pd.concat(data, axis=0)  # concatenate vertically"
   ]
  },
  {
   "cell_type": "code",
   "execution_count": null,
   "id": "631a49fe-3b87-47a1-846f-dff0e59c6bbb",
   "metadata": {},
   "outputs": [],
   "source": [
    "df.shape"
   ]
  },
  {
   "cell_type": "code",
   "execution_count": null,
   "id": "82e92263-f3b7-43a8-9552-156ddce4903e",
   "metadata": {},
   "outputs": [],
   "source": [
    "df.head()"
   ]
  },
  {
   "cell_type": "code",
   "execution_count": null,
   "id": "26648e62-74cd-472f-9631-33cbd9c4f2fb",
   "metadata": {},
   "outputs": [],
   "source": [
    "# example: merge DFs of two years horizontall\n",
    "a = pd.merge(left=data[0], right=data[1], on=\"name\", how=\"inner\")\n",
    "a.shape"
   ]
  },
  {
   "cell_type": "code",
   "execution_count": null,
   "id": "5790fcff-d7cf-4ece-a710-d22f3344c881",
   "metadata": {},
   "outputs": [],
   "source": [
    "a.head()"
   ]
  },
  {
   "cell_type": "markdown",
   "id": "8e9a439a-fddb-4ebe-9171-a300e50ad6b1",
   "metadata": {},
   "source": [
    "### Sort"
   ]
  },
  {
   "cell_type": "code",
   "execution_count": null,
   "id": "20e751e1-f8d9-4551-9b84-17dad33f30d5",
   "metadata": {},
   "outputs": [],
   "source": [
    "df.sort_values(by=\"name\", ascending=False, inplace=True).head()"
   ]
  },
  {
   "cell_type": "code",
   "execution_count": null,
   "id": "689d83f6-2663-48b9-8ef4-5cedd5b5d259",
   "metadata": {},
   "outputs": [],
   "source": [
    "df.sort_values(by=[\"name\", \"year\"], ascending=[True, False]).head()"
   ]
  },
  {
   "cell_type": "markdown",
   "id": "76632103-581a-4b88-86d3-f1f4a339c649",
   "metadata": {},
   "source": [
    "### Edit columns"
   ]
  },
  {
   "cell_type": "code",
   "execution_count": null,
   "id": "fa5156b6-9818-4db5-a1d1-ee7a4653f6bd",
   "metadata": {},
   "outputs": [],
   "source": [
    "df[\"year_int\"] = df[\"year\"].astyape(int)"
   ]
  },
  {
   "cell_type": "code",
   "execution_count": null,
   "id": "c3eccd92-13f0-45f1-8457-a626617fdc61",
   "metadata": {},
   "outputs": [],
   "source": [
    "pd.to_datetime([\"2025-01-02 11:00\"]) # or \"January 2nd, 2025\", "
   ]
  },
  {
   "cell_type": "code",
   "execution_count": null,
   "id": "79305b6c-782f-4364-a301-9e616799d6e6",
   "metadata": {},
   "outputs": [],
   "source": [
    "df[\"year_ts\"] = pd.to_datetime(df[\"year\"])"
   ]
  },
  {
   "cell_type": "code",
   "execution_count": null,
   "id": "e59d2193-572f-424b-88a6-b500f80f34f9",
   "metadata": {},
   "outputs": [],
   "source": [
    "def square(x):\n",
    "    return x ** 2"
   ]
  },
  {
   "cell_type": "code",
   "execution_count": null,
   "id": "16f2a359-8927-4d35-a227-cd0c2e17d433",
   "metadata": {},
   "outputs": [],
   "source": [
    "df[\"square\"] = df[\"year_int\"].apply(square)  # <-- function pointer, cool isn't it"
   ]
  },
  {
   "cell_type": "code",
   "execution_count": null,
   "id": "aeebd5c1-5b97-4bfa-b4ee-ac8ddc8157b0",
   "metadata": {},
   "outputs": [],
   "source": [
    "df.head()"
   ]
  },
  {
   "cell_type": "markdown",
   "id": "cb36fced-c5f6-4553-887d-43a2e62227a0",
   "metadata": {},
   "source": [
    "### Plot a timeline"
   ]
  },
  {
   "cell_type": "code",
   "execution_count": null,
   "id": "eb682271-b143-4f8b-a327-c619e5860080",
   "metadata": {},
   "outputs": [],
   "source": [
    "df.query(\"name == 'Zzyzx'\")"
   ]
  },
  {
   "cell_type": "code",
   "execution_count": null,
   "id": "92f433b3-dd12-4905-8fbc-fc9181afe492",
   "metadata": {},
   "outputs": [],
   "source": [
    "df.sort_values(by=\"year_ts\", inplace=True)"
   ]
  },
  {
   "cell_type": "code",
   "execution_count": null,
   "id": "d7df6101-c513-46e1-8d7b-7bd7aa679c7c",
   "metadata": {},
   "outputs": [],
   "source": [
    "name = df[df[\"name\"] == \"Ronaldo\"].set_index(\"year_ts\")\n",
    "name = name[name[\"sex\"] == \"M\"]\n",
    "name[\"count\"].plot()"
   ]
  },
  {
   "cell_type": "code",
   "execution_count": null,
   "id": "ecec160a-3d54-455c-89bb-921fa90ee079",
   "metadata": {},
   "outputs": [],
   "source": []
  }
 ],
 "metadata": {
  "kernelspec": {
   "display_name": "Python 3 (ipykernel)",
   "language": "python",
   "name": "python3"
  },
  "language_info": {
   "codemirror_mode": {
    "name": "ipython",
    "version": 3
   },
   "file_extension": ".py",
   "mimetype": "text/x-python",
   "name": "python",
   "nbconvert_exporter": "python",
   "pygments_lexer": "ipython3",
   "version": "3.12.4"
  }
 },
 "nbformat": 4,
 "nbformat_minor": 5
}
